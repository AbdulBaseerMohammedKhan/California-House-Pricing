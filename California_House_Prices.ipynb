{
  "nbformat": 4,
  "nbformat_minor": 0,
  "metadata": {
    "colab": {
      "name": "California House Prices",
      "provenance": [],
      "collapsed_sections": [],
      "authorship_tag": "ABX9TyPa8bLT2fgWxZ/917+Namld",
      "include_colab_link": true
    },
    "kernelspec": {
      "name": "python3",
      "display_name": "Python 3"
    },
    "accelerator": "TPU"
  },
  "cells": [
    {
      "cell_type": "markdown",
      "metadata": {
        "id": "view-in-github",
        "colab_type": "text"
      },
      "source": [
        "<a href=\"https://colab.research.google.com/github/AbdulBaseerMohammedKhan/California-House-Pricing/blob/master/California_House_Prices.ipynb\" target=\"_parent\"><img src=\"https://colab.research.google.com/assets/colab-badge.svg\" alt=\"Open In Colab\"/></a>"
      ]
    },
    {
      "cell_type": "markdown",
      "metadata": {
        "id": "-ZiTazc0aLRQ",
        "colab_type": "text"
      },
      "source": [
        "## Predicting house prices from the california_housing_train.csv"
      ]
    },
    {
      "cell_type": "code",
      "metadata": {
        "id": "-FXaECc3pRhJ",
        "colab_type": "code",
        "colab": {
          "base_uri": "https://localhost:8080/",
          "height": 401
        },
        "outputId": "1efdc67f-723a-46ce-cbb7-ee91798eb133"
      },
      "source": [
        "!git clone https://github.com/AbdulBaseerMohammedKhan/California-House-Pricing.git\n",
        "!cd California-House-Pricing.git\n",
        "!git add -A\n",
        "!git commit --message=\"Add my-file\"\n",
        "!git push"
      ],
      "execution_count": 39,
      "outputs": [
        {
          "output_type": "stream",
          "text": [
            "fatal: destination path 'California-House-Pricing' already exists and is not an empty directory.\n",
            "/bin/bash: line 0: cd: California-House-Pricing.git: No such file or directory\n",
            "\n",
            "*** Please tell me who you are.\n",
            "\n",
            "Run\n",
            "\n",
            "  git config --global user.email \"you@example.com\"\n",
            "  git config --global user.name \"Your Name\"\n",
            "\n",
            "to set your account's default identity.\n",
            "Omit --global to set the identity only in this repository.\n",
            "\n",
            "fatal: unable to auto-detect email address (got 'root@dd7dde2528ef.(none)')\n",
            "fatal: No configured push destination.\n",
            "Either specify the URL from the command-line or configure a remote repository using\n",
            "\n",
            "    git remote add <name> <url>\n",
            "\n",
            "and then push using the remote name\n",
            "\n",
            "    git push <name>\n",
            "\n"
          ],
          "name": "stdout"
        }
      ]
    },
    {
      "cell_type": "code",
      "metadata": {
        "id": "IixaiFBPra5D",
        "colab_type": "code",
        "colab": {}
      },
      "source": [
        " git config --global user.email \"you@example.com\"\n",
        "  git config --global user.name \"Your Name\"\n"
      ],
      "execution_count": 0,
      "outputs": []
    },
    {
      "cell_type": "code",
      "metadata": {
        "id": "2aw5m_o1VDE2",
        "colab_type": "code",
        "outputId": "b708fae4-d1dc-4f14-8878-d17b342565d4",
        "colab": {
          "base_uri": "https://localhost:8080/",
          "height": 286
        }
      },
      "source": [
        "import pandas as pd\n",
        "import numpy as np\n",
        "import matplotlib.pyplot as plt\n",
        "import seaborn as sns\n",
        "df=pd.read_csv(\"/content/sample_data/california_housing_train.csv\")\n",
        "\n",
        "df=df.drop(columns=['longitude', 'latitude'])\n",
        "df.describe()\n"
      ],
      "execution_count": 31,
      "outputs": [
        {
          "output_type": "execute_result",
          "data": {
            "text/html": [
              "<div>\n",
              "<style scoped>\n",
              "    .dataframe tbody tr th:only-of-type {\n",
              "        vertical-align: middle;\n",
              "    }\n",
              "\n",
              "    .dataframe tbody tr th {\n",
              "        vertical-align: top;\n",
              "    }\n",
              "\n",
              "    .dataframe thead th {\n",
              "        text-align: right;\n",
              "    }\n",
              "</style>\n",
              "<table border=\"1\" class=\"dataframe\">\n",
              "  <thead>\n",
              "    <tr style=\"text-align: right;\">\n",
              "      <th></th>\n",
              "      <th>housing_median_age</th>\n",
              "      <th>total_rooms</th>\n",
              "      <th>total_bedrooms</th>\n",
              "      <th>population</th>\n",
              "      <th>households</th>\n",
              "      <th>median_income</th>\n",
              "      <th>median_house_value</th>\n",
              "    </tr>\n",
              "  </thead>\n",
              "  <tbody>\n",
              "    <tr>\n",
              "      <th>count</th>\n",
              "      <td>17000.000000</td>\n",
              "      <td>17000.000000</td>\n",
              "      <td>17000.000000</td>\n",
              "      <td>17000.000000</td>\n",
              "      <td>17000.000000</td>\n",
              "      <td>17000.000000</td>\n",
              "      <td>17000.000000</td>\n",
              "    </tr>\n",
              "    <tr>\n",
              "      <th>mean</th>\n",
              "      <td>28.589353</td>\n",
              "      <td>2643.664412</td>\n",
              "      <td>539.410824</td>\n",
              "      <td>1429.573941</td>\n",
              "      <td>501.221941</td>\n",
              "      <td>3.883578</td>\n",
              "      <td>207300.912353</td>\n",
              "    </tr>\n",
              "    <tr>\n",
              "      <th>std</th>\n",
              "      <td>12.586937</td>\n",
              "      <td>2179.947071</td>\n",
              "      <td>421.499452</td>\n",
              "      <td>1147.852959</td>\n",
              "      <td>384.520841</td>\n",
              "      <td>1.908157</td>\n",
              "      <td>115983.764387</td>\n",
              "    </tr>\n",
              "    <tr>\n",
              "      <th>min</th>\n",
              "      <td>1.000000</td>\n",
              "      <td>2.000000</td>\n",
              "      <td>1.000000</td>\n",
              "      <td>3.000000</td>\n",
              "      <td>1.000000</td>\n",
              "      <td>0.499900</td>\n",
              "      <td>14999.000000</td>\n",
              "    </tr>\n",
              "    <tr>\n",
              "      <th>25%</th>\n",
              "      <td>18.000000</td>\n",
              "      <td>1462.000000</td>\n",
              "      <td>297.000000</td>\n",
              "      <td>790.000000</td>\n",
              "      <td>282.000000</td>\n",
              "      <td>2.566375</td>\n",
              "      <td>119400.000000</td>\n",
              "    </tr>\n",
              "    <tr>\n",
              "      <th>50%</th>\n",
              "      <td>29.000000</td>\n",
              "      <td>2127.000000</td>\n",
              "      <td>434.000000</td>\n",
              "      <td>1167.000000</td>\n",
              "      <td>409.000000</td>\n",
              "      <td>3.544600</td>\n",
              "      <td>180400.000000</td>\n",
              "    </tr>\n",
              "    <tr>\n",
              "      <th>75%</th>\n",
              "      <td>37.000000</td>\n",
              "      <td>3151.250000</td>\n",
              "      <td>648.250000</td>\n",
              "      <td>1721.000000</td>\n",
              "      <td>605.250000</td>\n",
              "      <td>4.767000</td>\n",
              "      <td>265000.000000</td>\n",
              "    </tr>\n",
              "    <tr>\n",
              "      <th>max</th>\n",
              "      <td>52.000000</td>\n",
              "      <td>37937.000000</td>\n",
              "      <td>6445.000000</td>\n",
              "      <td>35682.000000</td>\n",
              "      <td>6082.000000</td>\n",
              "      <td>15.000100</td>\n",
              "      <td>500001.000000</td>\n",
              "    </tr>\n",
              "  </tbody>\n",
              "</table>\n",
              "</div>"
            ],
            "text/plain": [
              "       housing_median_age   total_rooms  ...  median_income  median_house_value\n",
              "count        17000.000000  17000.000000  ...   17000.000000        17000.000000\n",
              "mean            28.589353   2643.664412  ...       3.883578       207300.912353\n",
              "std             12.586937   2179.947071  ...       1.908157       115983.764387\n",
              "min              1.000000      2.000000  ...       0.499900        14999.000000\n",
              "25%             18.000000   1462.000000  ...       2.566375       119400.000000\n",
              "50%             29.000000   2127.000000  ...       3.544600       180400.000000\n",
              "75%             37.000000   3151.250000  ...       4.767000       265000.000000\n",
              "max             52.000000  37937.000000  ...      15.000100       500001.000000\n",
              "\n",
              "[8 rows x 7 columns]"
            ]
          },
          "metadata": {
            "tags": []
          },
          "execution_count": 31
        }
      ]
    },
    {
      "cell_type": "code",
      "metadata": {
        "id": "DXiHmraiXS3l",
        "colab_type": "code",
        "outputId": "329534cb-2dc8-42e2-8b2b-9345e45fbcf0",
        "colab": {
          "base_uri": "https://localhost:8080/",
          "height": 494
        }
      },
      "source": [
        "sns.heatmap(df.isnull(),yticklabels=False,cbar=False)\n",
        "df.isnull().sum()\n"
      ],
      "execution_count": 29,
      "outputs": [
        {
          "output_type": "execute_result",
          "data": {
            "text/plain": [
              "housing_median_age    0\n",
              "total_rooms           0\n",
              "total_bedrooms        0\n",
              "population            0\n",
              "households            0\n",
              "median_income         0\n",
              "median_house_value    0\n",
              "dtype: int64"
            ]
          },
          "metadata": {
            "tags": []
          },
          "execution_count": 29
        },
        {
          "output_type": "display_data",
          "data": {
            "image/png": "[encoded data removed]",
            "text/plain": [
              "<Figure size 432x288 with 1 Axes>"
            ]
          },
          "metadata": {
            "tags": [],
            "needs_background": "light"
          }
        }
      ]
    },
    {
      "cell_type": "code",
      "metadata": {
        "id": "v007_guik3Pp",
        "colab_type": "code",
        "colab": {
          "base_uri": "https://localhost:8080/",
          "height": 297
        },
        "outputId": "7b0d4b63-d52f-4388-a322-e4c3627420b7"
      },
      "source": [
        "sns.boxplot(x=df['total_bedrooms'])"
      ],
      "execution_count": 27,
      "outputs": [
        {
          "output_type": "execute_result",
          "data": {
            "text/plain": [
              "<matplotlib.axes._subplots.AxesSubplot at 0x7fae2d686898>"
            ]
          },
          "metadata": {
            "tags": []
          },
          "execution_count": 27
        },
        {
          "output_type": "display_data",
          "data": {
            "image/png": "[encoded data removed]",
            "text/plain": [
              "<Figure size 432x288 with 1 Axes>"
            ]
          },
          "metadata": {
            "tags": [],
            "needs_background": "light"
          }
        }
      ]
    },
    {
      "cell_type": "code",
      "metadata": {
        "id": "T85Q9iyVlEkW",
        "colab_type": "code",
        "colab": {
          "base_uri": "https://localhost:8080/",
          "height": 297
        },
        "outputId": "aedde0bd-fd19-44e8-d54b-5178eb923bb5"
      },
      "source": [
        "sns.boxplot(x=df['total_rooms'])"
      ],
      "execution_count": 28,
      "outputs": [
        {
          "output_type": "execute_result",
          "data": {
            "text/plain": [
              "<matplotlib.axes._subplots.AxesSubplot at 0x7fae2c96d748>"
            ]
          },
          "metadata": {
            "tags": []
          },
          "execution_count": 28
        },
        {
          "output_type": "display_data",
          "data": {
            "image/png": "[encoded data removed]",
            "text/plain": [
              "<Figure size 432x288 with 1 Axes>"
            ]
          },
          "metadata": {
            "tags": [],
            "needs_background": "light"
          }
        }
      ]
    },
    {
      "cell_type": "code",
      "metadata": {
        "id": "1Z5xQNFZljKO",
        "colab_type": "code",
        "colab": {
          "base_uri": "https://localhost:8080/",
          "height": 497
        },
        "outputId": "7c742e7c-99df-43b8-b294-6fd33bd3dfed"
      },
      "source": [
        "fig, ax = plt.subplots(figsize=(16,8))\n",
        "ax.scatter(df['households'], df['total_rooms'])\n",
        "ax.set_xlabel('household')\n",
        "ax.set_ylabel('total_rooms')\n",
        "plt.show()"
      ],
      "execution_count": 32,
      "outputs": [
        {
          "output_type": "display_data",
          "data": {
            "image/png": "[encoded data removed]",
            "text/plain": [
              "<Figure size 1152x576 with 1 Axes>"
            ]
          },
          "metadata": {
            "tags": [],
            "needs_background": "light"
          }
        }
      ]
    },
    {
      "cell_type": "code",
      "metadata": {
        "id": "AGsTn7c0hz8B",
        "colab_type": "code",
        "colab": {}
      },
      "source": [
        "X=df.iloc[:,:-1]\n",
        "y=df.iloc[:,6]\n",
        "\n",
        "\n"
      ],
      "execution_count": 0,
      "outputs": []
    },
    {
      "cell_type": "code",
      "metadata": {
        "id": "UOV-yyGupPi8",
        "colab_type": "code",
        "colab": {}
      },
      "source": [
        ""
      ],
      "execution_count": 0,
      "outputs": []
    },
    {
      "cell_type": "markdown",
      "metadata": {
        "id": "w4Qs9gjCaJR8",
        "colab_type": "text"
      },
      "source": [
        "## Using Multiple Linear Regression"
      ]
    },
    {
      "cell_type": "code",
      "metadata": {
        "id": "MNcz9uL6h68m",
        "colab_type": "code",
        "colab": {}
      },
      "source": [
        "from sklearn.model_selection import train_test_split\n",
        "X_train,X_test,y_train,y_test = train_test_split(X,y,test_size=0.2,random_state=42)"
      ],
      "execution_count": 0,
      "outputs": []
    },
    {
      "cell_type": "code",
      "metadata": {
        "id": "CgqsWMzcp0kg",
        "colab_type": "code",
        "outputId": "dc4c15c8-941a-4ea2-d8e2-ecc377dad86b",
        "colab": {
          "base_uri": "https://localhost:8080/",
          "height": 33
        }
      },
      "source": [
        "\n",
        "from sklearn.linear_model import LinearRegression\n",
        "regressor = LinearRegression()\n",
        "regressor.fit(X_train,y_train)"
      ],
      "execution_count": 13,
      "outputs": [
        {
          "output_type": "execute_result",
          "data": {
            "text/plain": [
              "LinearRegression(copy_X=True, fit_intercept=True, n_jobs=None, normalize=False)"
            ]
          },
          "metadata": {
            "tags": []
          },
          "execution_count": 13
        }
      ]
    },
    {
      "cell_type": "code",
      "metadata": {
        "id": "ZVGgHZblqP0x",
        "colab_type": "code",
        "colab": {}
      },
      "source": [
        "y_pred = regressor.predict(X_test)"
      ],
      "execution_count": 0,
      "outputs": []
    },
    {
      "cell_type": "code",
      "metadata": {
        "id": "QgiWB7kjqyEW",
        "colab_type": "code",
        "colab": {}
      },
      "source": [
        "from sklearn.metrics import r2_score\n",
        "score=r2_score(y_test,y_pred)"
      ],
      "execution_count": 0,
      "outputs": []
    },
    {
      "cell_type": "code",
      "metadata": {
        "id": "eMZTaa2-rCyG",
        "colab_type": "code",
        "outputId": "d3f32037-a30f-4d3e-b0cd-4ece899da584",
        "colab": {
          "base_uri": "https://localhost:8080/",
          "height": 234
        }
      },
      "source": [
        "print(score)\n",
        "\n",
        "print(y_test)"
      ],
      "execution_count": 16,
      "outputs": [
        {
          "output_type": "stream",
          "text": [
            "0.5965697318393679\n",
            "10941    142700.0\n",
            "5250     500001.0\n",
            "10292     61800.0\n",
            "2266     162800.0\n",
            "6398      90600.0\n",
            "           ...   \n",
            "4706     211400.0\n",
            "8404     500001.0\n",
            "11114    162500.0\n",
            "7877     360700.0\n",
            "6188     137500.0\n",
            "Name: median_house_value, Length: 3400, dtype: float64\n"
          ],
          "name": "stdout"
        }
      ]
    },
    {
      "cell_type": "code",
      "metadata": {
        "id": "JMgCeauGt_5_",
        "colab_type": "code",
        "outputId": "980fd58b-66e1-49ad-fd25-54cecf153c6e",
        "colab": {
          "base_uri": "https://localhost:8080/",
          "height": 281
        }
      },
      "source": [
        "plt.plot(y_pred,y_test)"
      ],
      "execution_count": 17,
      "outputs": [
        {
          "output_type": "execute_result",
          "data": {
            "text/plain": [
              "[<matplotlib.lines.Line2D at 0x7fae7ac253c8>]"
            ]
          },
          "metadata": {
            "tags": []
          },
          "execution_count": 17
        },
        {
          "output_type": "display_data",
          "data": {
            "image/png": "[encoded data removed]",
            "text/plain": [
              "<Figure size 432x288 with 1 Axes>"
            ]
          },
          "metadata": {
            "tags": [],
            "needs_background": "light"
          }
        }
      ]
    },
    {
      "cell_type": "markdown",
      "metadata": {
        "id": "KqGBLA0zajXf",
        "colab_type": "text"
      },
      "source": [
        "## Using XGboost"
      ]
    },
    {
      "cell_type": "code",
      "metadata": {
        "id": "_LrE0uvwvR9x",
        "colab_type": "code",
        "outputId": "f5497ec2-43d2-4cba-a97a-2694bbddf4c9",
        "colab": {
          "base_uri": "https://localhost:8080/",
          "height": 150
        }
      },
      "source": [
        "import xgboost\n",
        "regressor=xgboost.XGBRegressor()\n",
        "regressor.fit(X_train,y_train)\n"
      ],
      "execution_count": 18,
      "outputs": [
        {
          "output_type": "stream",
          "text": [
            "[13:09:05] WARNING: /workspace/src/objective/regression_obj.cu:152: reg:linear is now deprecated in favor of reg:squarederror.\n"
          ],
          "name": "stdout"
        },
        {
          "output_type": "execute_result",
          "data": {
            "text/plain": [
              "XGBRegressor(base_score=0.5, booster='gbtree', colsample_bylevel=1,\n",
              "             colsample_bynode=1, colsample_bytree=1, gamma=0,\n",
              "             importance_type='gain', learning_rate=0.1, max_delta_step=0,\n",
              "             max_depth=3, min_child_weight=1, missing=None, n_estimators=100,\n",
              "             n_jobs=1, nthread=None, objective='reg:linear', random_state=0,\n",
              "             reg_alpha=0, reg_lambda=1, scale_pos_weight=1, seed=None,\n",
              "             silent=None, subsample=1, verbosity=1)"
            ]
          },
          "metadata": {
            "tags": []
          },
          "execution_count": 18
        }
      ]
    },
    {
      "cell_type": "code",
      "metadata": {
        "id": "DPoBRHnhbgu3",
        "colab_type": "code",
        "colab": {}
      },
      "source": [
        "y_pred=regressor.predict(X_test)"
      ],
      "execution_count": 0,
      "outputs": []
    },
    {
      "cell_type": "code",
      "metadata": {
        "id": "zYYoLJRnbl41",
        "colab_type": "code",
        "colab": {}
      },
      "source": [
        "score=r2_score(y_test,y_pred)"
      ],
      "execution_count": 0,
      "outputs": []
    },
    {
      "cell_type": "code",
      "metadata": {
        "id": "LiX7xbTfbrmg",
        "colab_type": "code",
        "outputId": "ece620e7-867a-4d4b-b4fe-793a4d6d7960",
        "colab": {
          "base_uri": "https://localhost:8080/",
          "height": 33
        }
      },
      "source": [
        "print(score)"
      ],
      "execution_count": 21,
      "outputs": [
        {
          "output_type": "stream",
          "text": [
            "0.6586422832678624\n"
          ],
          "name": "stdout"
        }
      ]
    },
    {
      "cell_type": "markdown",
      "metadata": {
        "id": "Wg3OagO4cCaQ",
        "colab_type": "text"
      },
      "source": [
        "## Using Artificial Nural Networks"
      ]
    },
    {
      "cell_type": "code",
      "metadata": {
        "id": "CymgSXYsbtiP",
        "colab_type": "code",
        "colab": {
          "base_uri": "https://localhost:8080/",
          "height": 33
        },
        "outputId": "f85973ed-1c1e-46fe-e025-56c99a347f4e"
      },
      "source": [
        "import keras\n",
        "from keras.models import Sequential\n",
        "from keras.layers import Dense\n",
        "from keras.layers import LeakyReLU,PReLU,ELU\n",
        "from keras.layers import Dropout"
      ],
      "execution_count": 22,
      "outputs": [
        {
          "output_type": "stream",
          "text": [
            "Using TensorFlow backend.\n"
          ],
          "name": "stderr"
        }
      ]
    },
    {
      "cell_type": "code",
      "metadata": {
        "id": "NcEKArfjcd2m",
        "colab_type": "code",
        "outputId": "76e0aa08-e05d-4b85-fc8d-d301884301c6",
        "colab": {
          "base_uri": "https://localhost:8080/",
          "height": 33
        }
      },
      "source": [
        "X_train.shape"
      ],
      "execution_count": 23,
      "outputs": [
        {
          "output_type": "execute_result",
          "data": {
            "text/plain": [
              "(13600, 6)"
            ]
          },
          "metadata": {
            "tags": []
          },
          "execution_count": 23
        }
      ]
    },
    {
      "cell_type": "code",
      "metadata": {
        "id": "Gevy3Xh-cMZH",
        "colab_type": "code",
        "outputId": "e243be04-840a-4f8c-b6c6-681fc2bebd44",
        "colab": {
          "base_uri": "https://localhost:8080/",
          "height": 1000
        }
      },
      "source": [
        "classifier = Sequential()\n",
        "classifier.add(Dense(output_dim = 50, init = 'he_uniform',activation='relu',input_dim = 6))\n",
        "classifier.add(Dense(output_dim = 25, init = 'he_uniform',activation='relu'))\n",
        "classifier.add(Dense(output_dim = 50, init = 'he_uniform',activation='relu'))\n",
        "classifier.add(Dense(output_dim = 1, init = 'he_uniform'))\n",
        "classifier.compile(loss=keras.metrics.mean_squared_error, optimizer='Adamax')\n",
        "model_history=classifier.fit(X_train.values, y_train.values,validation_split=0.20, batch_size = 10, nb_epoch = 200)\n",
        "\n"
      ],
      "execution_count": 24,
      "outputs": [
        {
          "output_type": "stream",
          "text": [
            "/usr/local/lib/python3.6/dist-packages/ipykernel_launcher.py:2: UserWarning: Update your `Dense` call to the Keras 2 API: `Dense(activation=\"relu\", input_dim=6, units=50, kernel_initializer=\"he_uniform\")`\n",
            "  \n",
            "/usr/local/lib/python3.6/dist-packages/ipykernel_launcher.py:3: UserWarning: Update your `Dense` call to the Keras 2 API: `Dense(activation=\"relu\", units=25, kernel_initializer=\"he_uniform\")`\n",
            "  This is separate from the ipykernel package so we can avoid doing imports until\n",
            "/usr/local/lib/python3.6/dist-packages/ipykernel_launcher.py:4: UserWarning: Update your `Dense` call to the Keras 2 API: `Dense(activation=\"relu\", units=50, kernel_initializer=\"he_uniform\")`\n",
            "  after removing the cwd from sys.path.\n",
            "/usr/local/lib/python3.6/dist-packages/ipykernel_launcher.py:5: UserWarning: Update your `Dense` call to the Keras 2 API: `Dense(units=1, kernel_initializer=\"he_uniform\")`\n",
            "  \"\"\"\n",
            "/usr/local/lib/python3.6/dist-packages/ipykernel_launcher.py:7: UserWarning: The `nb_epoch` argument in `fit` has been renamed `epochs`.\n",
            "  import sys\n"
          ],
          "name": "stderr"
        },
        {
          "output_type": "stream",
          "text": [
            "Train on 10880 samples, validate on 2720 samples\n",
            "Epoch 1/200\n",
            "10880/10880 [==============================] - 2s 145us/step - loss: 28978025668.3529 - val_loss: 26648154694.5882\n",
            "Epoch 2/200\n",
            "10880/10880 [==============================] - 1s 119us/step - loss: 27380909804.1176 - val_loss: 26332906823.5294\n",
            "Epoch 3/200\n",
            "10880/10880 [==============================] - 1s 117us/step - loss: 27026990960.9412 - val_loss: 25930493829.6471\n",
            "Epoch 4/200\n",
            "10880/10880 [==============================] - 1s 118us/step - loss: 26665815165.6471 - val_loss: 25536531040.0000\n",
            "Epoch 5/200\n",
            "10880/10880 [==============================] - 1s 126us/step - loss: 26241853012.2353 - val_loss: 25079340252.2353\n",
            "Epoch 6/200\n",
            "10880/10880 [==============================] - 1s 120us/step - loss: 25757138616.8235 - val_loss: 24581782480.0000\n",
            "Epoch 7/200\n",
            "10880/10880 [==============================] - 1s 125us/step - loss: 25250344525.2941 - val_loss: 23924887960.4706\n",
            "Epoch 8/200\n",
            "10880/10880 [==============================] - 1s 118us/step - loss: 24376384280.8235 - val_loss: 22925296208.0000\n",
            "Epoch 9/200\n",
            "10880/10880 [==============================] - 1s 119us/step - loss: 23080872529.8824 - val_loss: 21272323870.1176\n",
            "Epoch 10/200\n",
            "10880/10880 [==============================] - 1s 121us/step - loss: 21094700310.1176 - val_loss: 18845798639.0588\n",
            "Epoch 11/200\n",
            "10880/10880 [==============================] - 1s 127us/step - loss: 17935929963.1765 - val_loss: 15804462780.2353\n",
            "Epoch 12/200\n",
            "10880/10880 [==============================] - 1s 120us/step - loss: 14491805790.1176 - val_loss: 12726654790.5882\n",
            "Epoch 13/200\n",
            "10880/10880 [==============================] - 1s 121us/step - loss: 12481116499.8824 - val_loss: 11743472070.5882\n",
            "Epoch 14/200\n",
            "10880/10880 [==============================] - 1s 121us/step - loss: 11719844321.0588 - val_loss: 11203565056.0000\n",
            "Epoch 15/200\n",
            "10880/10880 [==============================] - 1s 118us/step - loss: 11263879259.8824 - val_loss: 10909967696.9412\n",
            "Epoch 16/200\n",
            "10880/10880 [==============================] - 1s 118us/step - loss: 10980883764.5882 - val_loss: 10839943997.1765\n",
            "Epoch 17/200\n",
            "10880/10880 [==============================] - 1s 122us/step - loss: 10781744606.1176 - val_loss: 10559121617.8824\n",
            "Epoch 18/200\n",
            "10880/10880 [==============================] - 1s 120us/step - loss: 10609025083.4118 - val_loss: 10385603900.2353\n",
            "Epoch 19/200\n",
            "10880/10880 [==============================] - 1s 118us/step - loss: 10422703921.1765 - val_loss: 10300862195.7647\n",
            "Epoch 20/200\n",
            "10880/10880 [==============================] - 1s 119us/step - loss: 10244075012.7059 - val_loss: 10213699778.3529\n",
            "Epoch 21/200\n",
            "10880/10880 [==============================] - 1s 130us/step - loss: 10065099454.5882 - val_loss: 9916018494.1176\n",
            "Epoch 22/200\n",
            "10880/10880 [==============================] - 1s 125us/step - loss: 9902171126.0000 - val_loss: 9755560293.6471\n",
            "Epoch 23/200\n",
            "10880/10880 [==============================] - 1s 121us/step - loss: 9748325042.2353 - val_loss: 9609904810.3529\n",
            "Epoch 24/200\n",
            "10880/10880 [==============================] - 1s 122us/step - loss: 9549110643.5882 - val_loss: 9476490675.7647\n",
            "Epoch 25/200\n",
            "10880/10880 [==============================] - 1s 124us/step - loss: 9387457824.7647 - val_loss: 9284650088.4706\n",
            "Epoch 26/200\n",
            "10880/10880 [==============================] - 1s 123us/step - loss: 9230364510.5882 - val_loss: 9110900299.2941\n",
            "Epoch 27/200\n",
            "10880/10880 [==============================] - 1s 119us/step - loss: 9035345457.5882 - val_loss: 9087237955.7647\n",
            "Epoch 28/200\n",
            "10880/10880 [==============================] - 1s 120us/step - loss: 8856616294.2353 - val_loss: 9040193640.9412\n",
            "Epoch 29/200\n",
            "10880/10880 [==============================] - 1s 122us/step - loss: 8692473394.5294 - val_loss: 8598765735.0588\n",
            "Epoch 30/200\n",
            "10880/10880 [==============================] - 1s 119us/step - loss: 8487181853.0588 - val_loss: 8481339848.0000\n",
            "Epoch 31/200\n",
            "10880/10880 [==============================] - 1s 121us/step - loss: 8324563765.7059 - val_loss: 8293832209.4118\n",
            "Epoch 32/200\n",
            "10880/10880 [==============================] - 1s 120us/step - loss: 8188748683.2353 - val_loss: 8168169006.5882\n",
            "Epoch 33/200\n",
            "10880/10880 [==============================] - 1s 126us/step - loss: 8021739689.5882 - val_loss: 8001049281.8824\n",
            "Epoch 34/200\n",
            "10880/10880 [==============================] - 1s 120us/step - loss: 7904689241.7647 - val_loss: 7873476031.5294\n",
            "Epoch 35/200\n",
            "10880/10880 [==============================] - 1s 122us/step - loss: 7734114155.4118 - val_loss: 7686286001.4118\n",
            "Epoch 36/200\n",
            "10880/10880 [==============================] - 1s 124us/step - loss: 7576100044.5882 - val_loss: 7599741576.0000\n",
            "Epoch 37/200\n",
            "10880/10880 [==============================] - 1s 121us/step - loss: 7456762147.5294 - val_loss: 7451291206.8235\n",
            "Epoch 38/200\n",
            "10880/10880 [==============================] - 1s 120us/step - loss: 7315143758.5882 - val_loss: 7379789115.7647\n",
            "Epoch 39/200\n",
            "10880/10880 [==============================] - 1s 121us/step - loss: 7171468407.0000 - val_loss: 7180804806.5882\n",
            "Epoch 40/200\n",
            "10880/10880 [==============================] - 1s 120us/step - loss: 7054848513.1765 - val_loss: 7123493010.8235\n",
            "Epoch 41/200\n",
            "10880/10880 [==============================] - 1s 122us/step - loss: 6970453228.0000 - val_loss: 6952106945.4118\n",
            "Epoch 42/200\n",
            "10880/10880 [==============================] - 1s 119us/step - loss: 6851269703.5882 - val_loss: 6903623041.4118\n",
            "Epoch 43/200\n",
            "10880/10880 [==============================] - 1s 127us/step - loss: 6745338243.3529 - val_loss: 6770653106.1176\n",
            "Epoch 44/200\n",
            "10880/10880 [==============================] - 1s 123us/step - loss: 6674120249.3824 - val_loss: 6681073712.2353\n",
            "Epoch 45/200\n",
            "10880/10880 [==============================] - 1s 121us/step - loss: 6547524194.0147 - val_loss: 6611253453.8824\n",
            "Epoch 46/200\n",
            "10880/10880 [==============================] - 1s 121us/step - loss: 6480069530.0588 - val_loss: 6511525642.1176\n",
            "Epoch 47/200\n",
            "10880/10880 [==============================] - 1s 121us/step - loss: 6418104303.2353 - val_loss: 6589994027.2941\n",
            "Epoch 48/200\n",
            "10880/10880 [==============================] - 1s 121us/step - loss: 6360670101.6471 - val_loss: 6376991206.5882\n",
            "Epoch 49/200\n",
            "10880/10880 [==============================] - 1s 120us/step - loss: 6285465225.5882 - val_loss: 6294241098.3529\n",
            "Epoch 50/200\n",
            "10880/10880 [==============================] - 1s 120us/step - loss: 6191290490.5882 - val_loss: 6799449811.8824\n",
            "Epoch 51/200\n",
            "10880/10880 [==============================] - 1s 123us/step - loss: 6170941648.2941 - val_loss: 6215484798.5882\n",
            "Epoch 52/200\n",
            "10880/10880 [==============================] - 1s 121us/step - loss: 6131091577.2353 - val_loss: 6136715365.1765\n",
            "Epoch 53/200\n",
            "10880/10880 [==============================] - 1s 121us/step - loss: 5996227997.7647 - val_loss: 6154294895.0588\n",
            "Epoch 54/200\n",
            "10880/10880 [==============================] - 1s 134us/step - loss: 6027519328.0000 - val_loss: 6085504651.0588\n",
            "Epoch 55/200\n",
            "10880/10880 [==============================] - 1s 123us/step - loss: 6008210921.2059 - val_loss: 6882219632.8235\n",
            "Epoch 56/200\n",
            "10880/10880 [==============================] - 1s 125us/step - loss: 5930747521.0882 - val_loss: 6010201228.9412\n",
            "Epoch 57/200\n",
            "10880/10880 [==============================] - 1s 132us/step - loss: 5898895876.5882 - val_loss: 6101879833.1765\n",
            "Epoch 58/200\n",
            "10880/10880 [==============================] - 1s 120us/step - loss: 5853173636.6471 - val_loss: 6157986903.5294\n",
            "Epoch 59/200\n",
            "10880/10880 [==============================] - 1s 121us/step - loss: 5869395086.1176 - val_loss: 5935871913.8824\n",
            "Epoch 60/200\n",
            "10880/10880 [==============================] - 1s 122us/step - loss: 5762016403.7647 - val_loss: 6160745799.0588\n",
            "Epoch 61/200\n",
            "10880/10880 [==============================] - 1s 120us/step - loss: 5752369948.6471 - val_loss: 5839784000.9412\n",
            "Epoch 62/200\n",
            "10880/10880 [==============================] - 1s 123us/step - loss: 5721811653.7647 - val_loss: 5807128874.1176\n",
            "Epoch 63/200\n",
            "10880/10880 [==============================] - 1s 132us/step - loss: 5685135123.2353 - val_loss: 5970114605.4118\n",
            "Epoch 64/200\n",
            "10880/10880 [==============================] - 1s 118us/step - loss: 5694584848.7647 - val_loss: 5986394041.4118\n",
            "Epoch 65/200\n",
            "10880/10880 [==============================] - 1s 122us/step - loss: 5633900960.7059 - val_loss: 5768850966.8235\n",
            "Epoch 66/200\n",
            "10880/10880 [==============================] - 1s 121us/step - loss: 5636192147.0147 - val_loss: 5760945945.4118\n",
            "Epoch 67/200\n",
            "10880/10880 [==============================] - 1s 123us/step - loss: 5622797925.2941 - val_loss: 6007820540.0000\n",
            "Epoch 68/200\n",
            "10880/10880 [==============================] - 1s 122us/step - loss: 5588263378.0588 - val_loss: 5828815148.0000\n",
            "Epoch 69/200\n",
            "10880/10880 [==============================] - 1s 129us/step - loss: 5577534888.0588 - val_loss: 5703638835.0588\n",
            "Epoch 70/200\n",
            "10880/10880 [==============================] - 1s 122us/step - loss: 5550345686.6176 - val_loss: 6034079691.2941\n",
            "Epoch 71/200\n",
            "10880/10880 [==============================] - 1s 120us/step - loss: 5588696284.1176 - val_loss: 5744331942.5882\n",
            "Epoch 72/200\n",
            "10880/10880 [==============================] - 1s 123us/step - loss: 5565288036.2353 - val_loss: 5686769088.2353\n",
            "Epoch 73/200\n",
            "10880/10880 [==============================] - 1s 120us/step - loss: 5521746936.1765 - val_loss: 5711324108.0000\n",
            "Epoch 74/200\n",
            "10880/10880 [==============================] - 1s 123us/step - loss: 5500315605.2059 - val_loss: 5636568274.1176\n",
            "Epoch 75/200\n",
            "10880/10880 [==============================] - 1s 127us/step - loss: 5493501159.8235 - val_loss: 5968847201.4118\n",
            "Epoch 76/200\n",
            "10880/10880 [==============================] - 1s 121us/step - loss: 5526166665.0588 - val_loss: 5626878663.7647\n",
            "Epoch 77/200\n",
            "10880/10880 [==============================] - 1s 121us/step - loss: 5484248958.1176 - val_loss: 5618007753.4118\n",
            "Epoch 78/200\n",
            "10880/10880 [==============================] - 1s 124us/step - loss: 5497925504.5294 - val_loss: 6136877157.1765\n",
            "Epoch 79/200\n",
            "10880/10880 [==============================] - 1s 123us/step - loss: 5501327491.4118 - val_loss: 5675879345.1765\n",
            "Epoch 80/200\n",
            "10880/10880 [==============================] - 1s 129us/step - loss: 5405632199.8824 - val_loss: 5818994031.0588\n",
            "Epoch 81/200\n",
            "10880/10880 [==============================] - 1s 129us/step - loss: 5426376240.2353 - val_loss: 5936934605.8824\n",
            "Epoch 82/200\n",
            "10880/10880 [==============================] - 1s 131us/step - loss: 5414252955.0588 - val_loss: 5553956426.8235\n",
            "Epoch 83/200\n",
            "10880/10880 [==============================] - 2s 138us/step - loss: 5400384407.5882 - val_loss: 5698109045.6471\n",
            "Epoch 84/200\n",
            "10880/10880 [==============================] - 1s 137us/step - loss: 5428654047.0000 - val_loss: 5543355383.2941\n",
            "Epoch 85/200\n",
            "10880/10880 [==============================] - 1s 130us/step - loss: 5422915915.9412 - val_loss: 5591724157.6471\n",
            "Epoch 86/200\n",
            "10880/10880 [==============================] - 1s 130us/step - loss: 5368902338.1471 - val_loss: 5516497997.1765\n",
            "Epoch 87/200\n",
            "10880/10880 [==============================] - 1s 131us/step - loss: 5373206470.3235 - val_loss: 5564002435.2941\n",
            "Epoch 88/200\n",
            "10880/10880 [==============================] - 1s 121us/step - loss: 5360954904.4118 - val_loss: 5651424316.2353\n",
            "Epoch 89/200\n",
            "10880/10880 [==============================] - 1s 120us/step - loss: 5341573198.5294 - val_loss: 5593788947.5294\n",
            "Epoch 90/200\n",
            "10880/10880 [==============================] - 1s 123us/step - loss: 5369234678.2647 - val_loss: 5909248568.4706\n",
            "Epoch 91/200\n",
            "10880/10880 [==============================] - 1s 123us/step - loss: 5325733200.0000 - val_loss: 5766397124.4706\n",
            "Epoch 92/200\n",
            "10880/10880 [==============================] - 1s 121us/step - loss: 5357020352.4706 - val_loss: 5580430044.7059\n",
            "Epoch 93/200\n",
            "10880/10880 [==============================] - 1s 119us/step - loss: 5314668964.5294 - val_loss: 5436180518.1176\n",
            "Epoch 94/200\n",
            "10880/10880 [==============================] - 1s 121us/step - loss: 5289448021.9118 - val_loss: 5439701589.6471\n",
            "Epoch 95/200\n",
            "10880/10880 [==============================] - 1s 124us/step - loss: 5290325504.0588 - val_loss: 5419710851.7647\n",
            "Epoch 96/200\n",
            "10880/10880 [==============================] - 1s 120us/step - loss: 5232863134.0588 - val_loss: 5466188752.4706\n",
            "Epoch 97/200\n",
            "10880/10880 [==============================] - 1s 122us/step - loss: 5238277525.4118 - val_loss: 5425721395.7647\n",
            "Epoch 98/200\n",
            "10880/10880 [==============================] - 1s 120us/step - loss: 5259518057.9412 - val_loss: 5354831484.7059\n",
            "Epoch 99/200\n",
            "10880/10880 [==============================] - 1s 126us/step - loss: 5224193326.3824 - val_loss: 5372315616.0000\n",
            "Epoch 100/200\n",
            "10880/10880 [==============================] - 1s 131us/step - loss: 5245677493.6471 - val_loss: 5339509472.4706\n",
            "Epoch 101/200\n",
            "10880/10880 [==============================] - 1s 128us/step - loss: 5227321341.4706 - val_loss: 5585414824.4706\n",
            "Epoch 102/200\n",
            "10880/10880 [==============================] - 1s 133us/step - loss: 5185836903.2941 - val_loss: 5548285755.0588\n",
            "Epoch 103/200\n",
            "10880/10880 [==============================] - 1s 126us/step - loss: 5181021641.5588 - val_loss: 5719916231.0588\n",
            "Epoch 104/200\n",
            "10880/10880 [==============================] - 1s 123us/step - loss: 5205926587.0294 - val_loss: 5274466068.7059\n",
            "Epoch 105/200\n",
            "10880/10880 [==============================] - 1s 123us/step - loss: 5163234976.5882 - val_loss: 5266655739.2941\n",
            "Epoch 106/200\n",
            "10880/10880 [==============================] - 1s 128us/step - loss: 5157787261.0294 - val_loss: 5433952118.5882\n",
            "Epoch 107/200\n",
            "10880/10880 [==============================] - 1s 130us/step - loss: 5152069235.7941 - val_loss: 5432415848.2353\n",
            "Epoch 108/200\n",
            "10880/10880 [==============================] - 1s 121us/step - loss: 5123670191.7353 - val_loss: 5322250950.5882\n",
            "Epoch 109/200\n",
            "10880/10880 [==============================] - 1s 121us/step - loss: 5149338191.0294 - val_loss: 5322922460.4706\n",
            "Epoch 110/200\n",
            "10880/10880 [==============================] - 1s 120us/step - loss: 5140150941.6176 - val_loss: 5238407414.5882\n",
            "Epoch 111/200\n",
            "10880/10880 [==============================] - 1s 122us/step - loss: 5117372067.2353 - val_loss: 5265047412.4706\n",
            "Epoch 112/200\n",
            "10880/10880 [==============================] - 1s 121us/step - loss: 5133783642.5882 - val_loss: 5225965478.5882\n",
            "Epoch 113/200\n",
            "10880/10880 [==============================] - 1s 122us/step - loss: 5133259470.1471 - val_loss: 5282707324.4706\n",
            "Epoch 114/200\n",
            "10880/10880 [==============================] - 1s 127us/step - loss: 5110026863.3824 - val_loss: 5288718928.4706\n",
            "Epoch 115/200\n",
            "10880/10880 [==============================] - 1s 122us/step - loss: 5134393355.0000 - val_loss: 5905597723.2941\n",
            "Epoch 116/200\n",
            "10880/10880 [==============================] - 1s 122us/step - loss: 5126917553.0000 - val_loss: 5232155071.2941\n",
            "Epoch 117/200\n",
            "10880/10880 [==============================] - 1s 121us/step - loss: 5083361406.2353 - val_loss: 5204769121.1765\n",
            "Epoch 118/200\n",
            "10880/10880 [==============================] - 1s 122us/step - loss: 5080933588.9706 - val_loss: 5212015338.3529\n",
            "Epoch 119/200\n",
            "10880/10880 [==============================] - 1s 124us/step - loss: 5056589167.1765 - val_loss: 5878570301.1765\n",
            "Epoch 120/200\n",
            "10880/10880 [==============================] - 1s 124us/step - loss: 5058360894.9412 - val_loss: 5242555789.4118\n",
            "Epoch 121/200\n",
            "10880/10880 [==============================] - 1s 121us/step - loss: 5064171579.3824 - val_loss: 5295061920.7059\n",
            "Epoch 122/200\n",
            "10880/10880 [==============================] - 1s 123us/step - loss: 5062150505.8235 - val_loss: 5347482256.4706\n",
            "Epoch 123/200\n",
            "10880/10880 [==============================] - 1s 123us/step - loss: 5079688045.7059 - val_loss: 5237354764.0000\n",
            "Epoch 124/200\n",
            "10880/10880 [==============================] - 1s 119us/step - loss: 5037273929.6029 - val_loss: 5176258771.0588\n",
            "Epoch 125/200\n",
            "10880/10880 [==============================] - 1s 121us/step - loss: 5071793109.5294 - val_loss: 5158535901.4118\n",
            "Epoch 126/200\n",
            "10880/10880 [==============================] - 1s 120us/step - loss: 5036848854.0588 - val_loss: 5188452288.4706\n",
            "Epoch 127/200\n",
            "10880/10880 [==============================] - 1s 121us/step - loss: 5051864250.4412 - val_loss: 5286108310.3529\n",
            "Epoch 128/200\n",
            "10880/10880 [==============================] - 1s 122us/step - loss: 5055332968.8235 - val_loss: 5223850533.1765\n",
            "Epoch 129/200\n",
            "10880/10880 [==============================] - 1s 127us/step - loss: 5019530316.2647 - val_loss: 5202757552.0000\n",
            "Epoch 130/200\n",
            "10880/10880 [==============================] - 1s 124us/step - loss: 5042428089.4412 - val_loss: 5184942917.4118\n",
            "Epoch 131/200\n",
            "10880/10880 [==============================] - 1s 123us/step - loss: 5055194241.0588 - val_loss: 5258129041.6471\n",
            "Epoch 132/200\n",
            "10880/10880 [==============================] - 1s 122us/step - loss: 5024621737.0000 - val_loss: 5491489128.2353\n",
            "Epoch 133/200\n",
            "10880/10880 [==============================] - 1s 121us/step - loss: 5037994178.0882 - val_loss: 5148253835.5294\n",
            "Epoch 134/200\n",
            "10880/10880 [==============================] - 1s 123us/step - loss: 4976485962.2059 - val_loss: 5698068457.8824\n",
            "Epoch 135/200\n",
            "10880/10880 [==============================] - 1s 125us/step - loss: 5012649291.2353 - val_loss: 5325828592.0000\n",
            "Epoch 136/200\n",
            "10880/10880 [==============================] - 1s 126us/step - loss: 5006990896.2353 - val_loss: 5426087251.2941\n",
            "Epoch 137/200\n",
            "10880/10880 [==============================] - 1s 124us/step - loss: 5000918115.1912 - val_loss: 5119573831.2941\n",
            "Epoch 138/200\n",
            "10880/10880 [==============================] - 1s 128us/step - loss: 5024240358.1765 - val_loss: 5172055844.2353\n",
            "Epoch 139/200\n",
            "10880/10880 [==============================] - 1s 122us/step - loss: 5023641809.8824 - val_loss: 5146265792.7059\n",
            "Epoch 140/200\n",
            "10880/10880 [==============================] - 1s 122us/step - loss: 5002671875.8824 - val_loss: 5320769957.4118\n",
            "Epoch 141/200\n",
            "10880/10880 [==============================] - 1s 121us/step - loss: 4972426502.0588 - val_loss: 5492287524.4706\n",
            "Epoch 142/200\n",
            "10880/10880 [==============================] - 1s 122us/step - loss: 4989366580.1765 - val_loss: 5132625738.3529\n",
            "Epoch 143/200\n",
            "10880/10880 [==============================] - 1s 122us/step - loss: 5027342862.0588 - val_loss: 5202567293.8824\n",
            "Epoch 144/200\n",
            "10880/10880 [==============================] - 1s 121us/step - loss: 4975891800.4706 - val_loss: 5181755049.4118\n",
            "Epoch 145/200\n",
            "10880/10880 [==============================] - 1s 122us/step - loss: 4928609579.8235 - val_loss: 5133441354.8235\n",
            "Epoch 146/200\n",
            "10880/10880 [==============================] - 1s 123us/step - loss: 4979568785.1176 - val_loss: 5130579349.6471\n",
            "Epoch 147/200\n",
            "10880/10880 [==============================] - 1s 123us/step - loss: 4971462685.2941 - val_loss: 5149128020.7059\n",
            "Epoch 148/200\n",
            "10880/10880 [==============================] - 1s 121us/step - loss: 4952769427.6176 - val_loss: 6029471599.5294\n",
            "Epoch 149/200\n",
            "10880/10880 [==============================] - 1s 121us/step - loss: 5000249867.3529 - val_loss: 5111467080.7059\n",
            "Epoch 150/200\n",
            "10880/10880 [==============================] - 1s 121us/step - loss: 4961979902.7941 - val_loss: 5159848263.2941\n",
            "Epoch 151/200\n",
            "10880/10880 [==============================] - 1s 122us/step - loss: 4972149782.2941 - val_loss: 5134959081.1765\n",
            "Epoch 152/200\n",
            "10880/10880 [==============================] - 1s 124us/step - loss: 4968148260.7647 - val_loss: 5210236637.8824\n",
            "Epoch 153/200\n",
            "10880/10880 [==============================] - 1s 131us/step - loss: 4957091243.0294 - val_loss: 5106726791.7647\n",
            "Epoch 154/200\n",
            "10880/10880 [==============================] - 1s 125us/step - loss: 4944642829.1176 - val_loss: 5198883583.5294\n",
            "Epoch 155/200\n",
            "10880/10880 [==============================] - 1s 126us/step - loss: 4969743538.6176 - val_loss: 5320113559.0588\n",
            "Epoch 156/200\n",
            "10880/10880 [==============================] - 1s 122us/step - loss: 4912024142.8529 - val_loss: 5118639905.8824\n",
            "Epoch 157/200\n",
            "10880/10880 [==============================] - 1s 124us/step - loss: 4933410765.1765 - val_loss: 5351291355.2941\n",
            "Epoch 158/200\n",
            "10880/10880 [==============================] - 1s 120us/step - loss: 4942214190.7647 - val_loss: 5092215348.9412\n",
            "Epoch 159/200\n",
            "10880/10880 [==============================] - 1s 121us/step - loss: 4910072211.0000 - val_loss: 5074672932.2353\n",
            "Epoch 160/200\n",
            "10880/10880 [==============================] - 1s 127us/step - loss: 4954300365.4412 - val_loss: 5267812781.6471\n",
            "Epoch 161/200\n",
            "10880/10880 [==============================] - 1s 120us/step - loss: 4948118665.1176 - val_loss: 5184112011.2941\n",
            "Epoch 162/200\n",
            "10880/10880 [==============================] - 1s 122us/step - loss: 4949692788.4706 - val_loss: 5261675451.0588\n",
            "Epoch 163/200\n",
            "10880/10880 [==============================] - 1s 122us/step - loss: 4914140366.7353 - val_loss: 5796705347.7647\n",
            "Epoch 164/200\n",
            "10880/10880 [==============================] - 1s 122us/step - loss: 4951610678.4412 - val_loss: 5106755982.3529\n",
            "Epoch 165/200\n",
            "10880/10880 [==============================] - 1s 122us/step - loss: 4933781279.2353 - val_loss: 5161501540.9412\n",
            "Epoch 166/200\n",
            "10880/10880 [==============================] - 1s 123us/step - loss: 4905871775.7353 - val_loss: 5056589775.2941\n",
            "Epoch 167/200\n",
            "10880/10880 [==============================] - 1s 121us/step - loss: 4912063908.3824 - val_loss: 5090897420.4706\n",
            "Epoch 168/200\n",
            "10880/10880 [==============================] - 1s 121us/step - loss: 4899255427.9412 - val_loss: 5110765095.0588\n",
            "Epoch 169/200\n",
            "10880/10880 [==============================] - 1s 131us/step - loss: 4924466960.8235 - val_loss: 5125732092.0000\n",
            "Epoch 170/200\n",
            "10880/10880 [==============================] - 1s 123us/step - loss: 4895482569.8235 - val_loss: 5054335150.5882\n",
            "Epoch 171/200\n",
            "10880/10880 [==============================] - 1s 123us/step - loss: 4897044758.7059 - val_loss: 5109145832.0000\n",
            "Epoch 172/200\n",
            "10880/10880 [==============================] - 1s 121us/step - loss: 4902635148.9118 - val_loss: 5057762154.3529\n",
            "Epoch 173/200\n",
            "10880/10880 [==============================] - 1s 130us/step - loss: 4851527012.9118 - val_loss: 5058861404.9412\n",
            "Epoch 174/200\n",
            "10880/10880 [==============================] - 1s 129us/step - loss: 4896958400.9706 - val_loss: 5063696257.4118\n",
            "Epoch 175/200\n",
            "10880/10880 [==============================] - 1s 120us/step - loss: 4877959641.2941 - val_loss: 5243832695.0588\n",
            "Epoch 176/200\n",
            "10880/10880 [==============================] - 1s 128us/step - loss: 4893276046.8824 - val_loss: 5048935117.8824\n",
            "Epoch 177/200\n",
            "10880/10880 [==============================] - 1s 121us/step - loss: 4895934959.2059 - val_loss: 5025034080.4706\n",
            "Epoch 178/200\n",
            "10880/10880 [==============================] - 1s 122us/step - loss: 4949580492.3235 - val_loss: 5287024588.7059\n",
            "Epoch 179/200\n",
            "10880/10880 [==============================] - 1s 125us/step - loss: 4883259809.1176 - val_loss: 5052697432.7059\n",
            "Epoch 180/200\n",
            "10880/10880 [==============================] - 1s 122us/step - loss: 4902671219.6765 - val_loss: 5563101079.5294\n",
            "Epoch 181/200\n",
            "10880/10880 [==============================] - 1s 125us/step - loss: 4874692059.6176 - val_loss: 5081966056.7059\n",
            "Epoch 182/200\n",
            "10880/10880 [==============================] - 1s 123us/step - loss: 4876382957.0294 - val_loss: 6988139792.9412\n",
            "Epoch 183/200\n",
            "10880/10880 [==============================] - 1s 120us/step - loss: 4882547682.2941 - val_loss: 5030344664.4706\n",
            "Epoch 184/200\n",
            "10880/10880 [==============================] - 1s 127us/step - loss: 4906545698.5882 - val_loss: 5052270532.4706\n",
            "Epoch 185/200\n",
            "10880/10880 [==============================] - 1s 123us/step - loss: 4889325791.4118 - val_loss: 5244578051.7647\n",
            "Epoch 186/200\n",
            "10880/10880 [==============================] - 1s 119us/step - loss: 4848211124.4706 - val_loss: 5029099244.7059\n",
            "Epoch 187/200\n",
            "10880/10880 [==============================] - 1s 127us/step - loss: 4872158011.5882 - val_loss: 5136583246.5882\n",
            "Epoch 188/200\n",
            "10880/10880 [==============================] - 1s 136us/step - loss: 4866574679.6765 - val_loss: 5562497211.2941\n",
            "Epoch 189/200\n",
            "10880/10880 [==============================] - 1s 122us/step - loss: 4843668761.3529 - val_loss: 5123516721.4118\n",
            "Epoch 190/200\n",
            "10880/10880 [==============================] - 1s 121us/step - loss: 4868688264.5588 - val_loss: 5103986840.4706\n",
            "Epoch 191/200\n",
            "10880/10880 [==============================] - 1s 121us/step - loss: 4857924598.4706 - val_loss: 5010863729.8824\n",
            "Epoch 192/200\n",
            "10880/10880 [==============================] - 1s 129us/step - loss: 4852315515.0294 - val_loss: 5008868013.1765\n",
            "Epoch 193/200\n",
            "10880/10880 [==============================] - 1s 121us/step - loss: 4868421352.8235 - val_loss: 5265460049.1765\n",
            "Epoch 194/200\n",
            "10880/10880 [==============================] - 1s 128us/step - loss: 4865044487.4118 - val_loss: 5028219789.7647\n",
            "Epoch 195/200\n",
            "10880/10880 [==============================] - 1s 122us/step - loss: 4829586038.0588 - val_loss: 6153182706.8235\n",
            "Epoch 196/200\n",
            "10880/10880 [==============================] - 1s 122us/step - loss: 4854716101.4412 - val_loss: 4997525102.3529\n",
            "Epoch 197/200\n",
            "10880/10880 [==============================] - 1s 124us/step - loss: 4833463175.9118 - val_loss: 5174105030.5882\n",
            "Epoch 198/200\n",
            "10880/10880 [==============================] - 1s 124us/step - loss: 4841714886.3235 - val_loss: 4967626391.5294\n",
            "Epoch 199/200\n",
            "10880/10880 [==============================] - 1s 130us/step - loss: 4822152692.7353 - val_loss: 5376186727.7647\n",
            "Epoch 200/200\n",
            "10880/10880 [==============================] - 1s 122us/step - loss: 4818325248.2941 - val_loss: 4978206883.4118\n"
          ],
          "name": "stdout"
        }
      ]
    },
    {
      "cell_type": "code",
      "metadata": {
        "id": "kTVV3gGSc53F",
        "colab_type": "code",
        "outputId": "00ebc6c8-4caf-407f-caef-10f12390ab03",
        "colab": {
          "base_uri": "https://localhost:8080/",
          "height": 33
        }
      },
      "source": [
        "y_pred=classifier.predict(X_test)\n",
        "score=r2_score(y_test,y_pred)\n",
        "print(score)"
      ],
      "execution_count": 25,
      "outputs": [
        {
          "output_type": "stream",
          "text": [
            "0.6607727753235055\n"
          ],
          "name": "stdout"
        }
      ]
    },
    {
      "cell_type": "code",
      "metadata": {
        "id": "Fz2AghmufGDo",
        "colab_type": "code",
        "colab": {}
      },
      "source": [
        ""
      ],
      "execution_count": 0,
      "outputs": []
    }
  ]
}